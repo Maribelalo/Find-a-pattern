{
 "cells": [
  {
   "cell_type": "code",
   "execution_count": 1,
   "id": "a10bbfb4-4ee1-4474-b13a-02bcd4d3b004",
   "metadata": {},
   "outputs": [],
   "source": [
    "import re"
   ]
  },
  {
   "cell_type": "code",
   "execution_count": 5,
   "id": "2119e9ae-d2c0-46cc-aa2c-40e87bc70a6d",
   "metadata": {},
   "outputs": [],
   "source": [
    "import os"
   ]
  },
  {
   "cell_type": "code",
   "execution_count": 235,
   "id": "c9e19c5f-dba4-463c-bcaf-9a1927a91bc2",
   "metadata": {},
   "outputs": [
    {
     "name": "stdout",
     "output_type": "stream",
     "text": [
      "The telephone number is 719-266-2837, and it is located in file EMTGPSXQEJX.txt\n"
     ]
    }
   ],
   "source": [
    "looking = True\n",
    "\n",
    "while looking:\n",
    "\n",
    "    for folder, sub_folder, files in os.walk(os.getcwd()+\"\\\\Extracted_content\"):\n",
    "    \n",
    "        for f in files:\n",
    "            x= folder+\"\\\\\"+f\n",
    "            pattern = r'\\d{3}-\\d{3}-\\d{4}'\n",
    "            read_file = open(x,'r')\n",
    "            phone = re.search(pattern,read_file.read())\n",
    "            if type(phone) == re.Match:\n",
    "                print (f'The telephone number is {phone.group()}, and it is located in file {f}')\n",
    "                looking = False\n",
    "            else:\n",
    "                continue\n",
    "    "
   ]
  },
  {
   "cell_type": "code",
   "execution_count": null,
   "id": "d31c2056-2a40-45eb-ba49-ffd751c2530d",
   "metadata": {},
   "outputs": [],
   "source": []
  }
 ],
 "metadata": {
  "kernelspec": {
   "display_name": "Python 3 (ipykernel)",
   "language": "python",
   "name": "python3"
  },
  "language_info": {
   "codemirror_mode": {
    "name": "ipython",
    "version": 3
   },
   "file_extension": ".py",
   "mimetype": "text/x-python",
   "name": "python",
   "nbconvert_exporter": "python",
   "pygments_lexer": "ipython3",
   "version": "3.11.7"
  }
 },
 "nbformat": 4,
 "nbformat_minor": 5
}
